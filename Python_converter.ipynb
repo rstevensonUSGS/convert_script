{
 "cells": [
  {
   "cell_type": "code",
   "execution_count": 3,
   "metadata": {},
   "outputs": [
    {
     "name": "stdout",
     "output_type": "stream",
     "text": [
      "Collecting ffmpy\n",
      "  Downloading https://files.pythonhosted.org/packages/18/e6/4309f4c02d38aef16236650766f78e949c1b8170f5d63cc4b3be7148565f/ffmpy-0.2.2.tar.gz\n",
      "Building wheels for collected packages: ffmpy\n",
      "  Building wheel for ffmpy (setup.py): started\n",
      "  Building wheel for ffmpy (setup.py): finished with status 'done'\n",
      "  Created wheel for ffmpy: filename=ffmpy-0.2.2-cp36-none-any.whl size=4605 sha256=908ce6109048556550728949862a2383a0452d1258d63a7d7157fd61050a7325\n",
      "  Stored in directory: C:\\Users\\rstevenson\\AppData\\Local\\pip\\Cache\\wheels\\16\\28\\57\\96aff0d874198125b03f542d854e7ebdc61a56b09a4d49de6a\n",
      "Successfully built ffmpy\n",
      "Installing collected packages: ffmpy\n",
      "Successfully installed ffmpy-0.2.2\n",
      "Note: you may need to restart the kernel to use updated packages.\n"
     ]
    }
   ],
   "source": [
    "pip install ffmpy"
   ]
  },
  {
   "cell_type": "code",
   "execution_count": 10,
   "metadata": {},
   "outputs": [
    {
     "data": {
      "text/plain": [
       "<bound method FFmpeg.run of <'FFmpeg' 'ffmpeg -i T:\\\\Projects\\\\VGI\\\\MappingChallenges\\\\CO_CityTownHall\\\\IMAGES_for_Websites\\\\Python_MP4\\\\MappingChallenge_CO_citytownhalls_TIMELAPSE.avi \"C:\\\\Users\\\\rstevenson\\\\Desktop\\\\DesktopFolders\\\\USGS\\\\Untitled Folder\\\\MC_CO_CTH_TIMELAPSE.mp4\"'>>"
      ]
     },
     "execution_count": 10,
     "metadata": {},
     "output_type": "execute_result"
    }
   ],
   "source": [
    "from ffmpy import FFmpeg\n",
    "\n",
    "ff = ffmpy.FFmpeg(\n",
    "    inputs={r'T:\\Projects\\VGI\\MappingChallenges\\CO_CityTownHall\\IMAGES_for_Websites\\Python_MP4\\MappingChallenge_CO_citytownhalls_TIMELAPSE.avi':None},\n",
    "    outputs={r'C:\\Users\\rstevenson\\Desktop\\DesktopFolders\\USGS\\Untitled Folder\\MC_CO_CTH_TIMELAPSE.mp4':None}\n",
    ")\n",
    "ff.cmd\n",
    "'ffmpeg -i inputs.avi outputs.mp4'\n",
    "ff.run"
   ]
  },
  {
   "cell_type": "code",
   "execution_count": null,
   "metadata": {},
   "outputs": [],
   "source": []
  }
 ],
 "metadata": {
  "kernelspec": {
   "display_name": "Python 3",
   "language": "python",
   "name": "python3"
  },
  "language_info": {
   "codemirror_mode": {
    "name": "ipython",
    "version": 3
   },
   "file_extension": ".py",
   "mimetype": "text/x-python",
   "name": "python",
   "nbconvert_exporter": "python",
   "pygments_lexer": "ipython3",
   "version": "3.6.5"
  }
 },
 "nbformat": 4,
 "nbformat_minor": 2
}
